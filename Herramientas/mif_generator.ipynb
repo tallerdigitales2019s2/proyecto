{
 "cells": [
  {
   "cell_type": "code",
   "execution_count": 23,
   "metadata": {},
   "outputs": [],
   "source": [
    "# for c1 in range(4):\n",
    "#     for c2 in range(4):\n",
    "#         for c3 in range(4):\n",
    "#             print(c1*(255//3),c2*(255//3),c3*(255//3),(c1,c2,c3))"
   ]
  },
  {
   "cell_type": "code",
   "execution_count": 1,
   "metadata": {},
   "outputs": [],
   "source": [
    "from PIL import Image\n",
    "from matplotlib.pyplot import imshow\n",
    "import numpy as np\n",
    "%matplotlib inline"
   ]
  },
  {
   "cell_type": "code",
   "execution_count": null,
   "metadata": {},
   "outputs": [],
   "source": []
  },
  {
   "cell_type": "code",
   "execution_count": null,
   "metadata": {},
   "outputs": [],
   "source": []
  },
  {
   "cell_type": "code",
   "execution_count": null,
   "metadata": {},
   "outputs": [],
   "source": []
  },
  {
   "cell_type": "code",
   "execution_count": 14,
   "metadata": {},
   "outputs": [
    {
     "ename": "FileNotFoundError",
     "evalue": "[Errno 2] No such file or directory: 'cars2.png'",
     "output_type": "error",
     "traceback": [
      "\u001b[0;31m---------------------------------------------------------------------------\u001b[0m",
      "\u001b[0;31mFileNotFoundError\u001b[0m                         Traceback (most recent call last)",
      "\u001b[0;32m<ipython-input-14-9055bf300909>\u001b[0m in \u001b[0;36m<module>\u001b[0;34m\u001b[0m\n\u001b[0;32m----> 1\u001b[0;31m \u001b[0mpil_im\u001b[0m \u001b[0;34m=\u001b[0m \u001b[0mImage\u001b[0m\u001b[0;34m.\u001b[0m\u001b[0mopen\u001b[0m\u001b[0;34m(\u001b[0m\u001b[0;34m'cars2.png'\u001b[0m\u001b[0;34m,\u001b[0m \u001b[0;34m'r'\u001b[0m\u001b[0;34m)\u001b[0m\u001b[0;34m\u001b[0m\u001b[0;34m\u001b[0m\u001b[0m\n\u001b[0m\u001b[1;32m      2\u001b[0m \u001b[0;34m\u001b[0m\u001b[0m\n\u001b[1;32m      3\u001b[0m \u001b[0mpixels\u001b[0m \u001b[0;34m=\u001b[0m \u001b[0mpil_im\u001b[0m\u001b[0;34m.\u001b[0m\u001b[0mload\u001b[0m\u001b[0;34m(\u001b[0m\u001b[0;34m)\u001b[0m\u001b[0;34m\u001b[0m\u001b[0;34m\u001b[0m\u001b[0m\n\u001b[1;32m      4\u001b[0m \u001b[0;34m\u001b[0m\u001b[0m\n\u001b[1;32m      5\u001b[0m \u001b[0;32mfor\u001b[0m \u001b[0my\u001b[0m \u001b[0;32min\u001b[0m \u001b[0mrange\u001b[0m\u001b[0;34m(\u001b[0m\u001b[0mpil_im\u001b[0m\u001b[0;34m.\u001b[0m\u001b[0msize\u001b[0m\u001b[0;34m[\u001b[0m\u001b[0;36m0\u001b[0m\u001b[0;34m]\u001b[0m\u001b[0;34m)\u001b[0m\u001b[0;34m:\u001b[0m\u001b[0;34m\u001b[0m\u001b[0;34m\u001b[0m\u001b[0m\n",
      "\u001b[0;32m/usr/lib/python3.7/site-packages/PIL/Image.py\u001b[0m in \u001b[0;36mopen\u001b[0;34m(fp, mode)\u001b[0m\n\u001b[1;32m   2764\u001b[0m \u001b[0;34m\u001b[0m\u001b[0m\n\u001b[1;32m   2765\u001b[0m     \u001b[0;32mif\u001b[0m \u001b[0mfilename\u001b[0m\u001b[0;34m:\u001b[0m\u001b[0;34m\u001b[0m\u001b[0;34m\u001b[0m\u001b[0m\n\u001b[0;32m-> 2766\u001b[0;31m         \u001b[0mfp\u001b[0m \u001b[0;34m=\u001b[0m \u001b[0mbuiltins\u001b[0m\u001b[0;34m.\u001b[0m\u001b[0mopen\u001b[0m\u001b[0;34m(\u001b[0m\u001b[0mfilename\u001b[0m\u001b[0;34m,\u001b[0m \u001b[0;34m\"rb\"\u001b[0m\u001b[0;34m)\u001b[0m\u001b[0;34m\u001b[0m\u001b[0;34m\u001b[0m\u001b[0m\n\u001b[0m\u001b[1;32m   2767\u001b[0m         \u001b[0mexclusive_fp\u001b[0m \u001b[0;34m=\u001b[0m \u001b[0;32mTrue\u001b[0m\u001b[0;34m\u001b[0m\u001b[0;34m\u001b[0m\u001b[0m\n\u001b[1;32m   2768\u001b[0m \u001b[0;34m\u001b[0m\u001b[0m\n",
      "\u001b[0;31mFileNotFoundError\u001b[0m: [Errno 2] No such file or directory: 'cars2.png'"
     ]
    }
   ],
   "source": [
    "pil_im = Image.open('cars2.png', 'r')\n",
    "\n",
    "pixels = pil_im.load()\n",
    "\n",
    "for y in range(pil_im.size[0]):    \n",
    "    for x in range(pil_im.size[1]):  \n",
    "        pix = pixels[y,x]\n",
    "#         print((round_color(pix[0])*(255//3) ,round_color(pix[1])*(255//3) ,round_color(pix[2])*(255//3) ,255))\n",
    "#         print(\"sd\",pixels[x,y])\n",
    "        bits=2\n",
    "        n_colors=2**bits\n",
    "        pixels[y,x]=(round_color(pix[0],bits)*(255//n_colors) ,round_color(pix[1],bits)*(255//n_colors) ,round_color(pix[2],bits)*(255//n_colors) ,255)"
   ]
  },
  {
   "cell_type": "code",
   "execution_count": 15,
   "metadata": {},
   "outputs": [
    {
     "ename": "NameError",
     "evalue": "name 'pil_im' is not defined",
     "output_type": "error",
     "traceback": [
      "\u001b[0;31m---------------------------------------------------------------------------\u001b[0m",
      "\u001b[0;31mNameError\u001b[0m                                 Traceback (most recent call last)",
      "\u001b[0;32m<ipython-input-15-9c1fb0d5a8a6>\u001b[0m in \u001b[0;36m<module>\u001b[0;34m\u001b[0m\n\u001b[0;32m----> 1\u001b[0;31m \u001b[0mimshow\u001b[0m\u001b[0;34m(\u001b[0m\u001b[0mnp\u001b[0m\u001b[0;34m.\u001b[0m\u001b[0masarray\u001b[0m\u001b[0;34m(\u001b[0m\u001b[0mpil_im\u001b[0m\u001b[0;34m)\u001b[0m\u001b[0;34m)\u001b[0m\u001b[0;34m\u001b[0m\u001b[0;34m\u001b[0m\u001b[0m\n\u001b[0m",
      "\u001b[0;31mNameError\u001b[0m: name 'pil_im' is not defined"
     ]
    }
   ],
   "source": [
    "imshow(np.asarray(pil_im))\n"
   ]
  },
  {
   "cell_type": "code",
   "execution_count": null,
   "metadata": {},
   "outputs": [],
   "source": []
  },
  {
   "cell_type": "code",
   "execution_count": 16,
   "metadata": {},
   "outputs": [
    {
     "data": {
      "text/plain": [
       "0"
      ]
     },
     "execution_count": 16,
     "metadata": {},
     "output_type": "execute_result"
    }
   ],
   "source": [
    "5//(255//4)"
   ]
  },
  {
   "cell_type": "code",
   "execution_count": 17,
   "metadata": {},
   "outputs": [],
   "source": [
    "from bisect import bisect"
   ]
  },
  {
   "cell_type": "code",
   "execution_count": 29,
   "metadata": {},
   "outputs": [
    {
     "ename": "NameError",
     "evalue": "name 'spriteArray' is not defined",
     "output_type": "error",
     "traceback": [
      "\u001b[0;31m---------------------------------------------------------------------------\u001b[0m",
      "\u001b[0;31mNameError\u001b[0m                                 Traceback (most recent call last)",
      "\u001b[0;32m<ipython-input-29-1db710b05025>\u001b[0m in \u001b[0;36m<module>\u001b[0;34m\u001b[0m\n\u001b[1;32m      9\u001b[0m \u001b[0;34m\u001b[0m\u001b[0m\n\u001b[1;32m     10\u001b[0m \u001b[0mx\u001b[0m \u001b[0;34m=\u001b[0m \u001b[0;36m0\u001b[0m\u001b[0;34m\u001b[0m\u001b[0;34m\u001b[0m\u001b[0m\n\u001b[0;32m---> 11\u001b[0;31m \u001b[0;32mfor\u001b[0m \u001b[0mi\u001b[0m \u001b[0;32min\u001b[0m \u001b[0mspriteArray\u001b[0m\u001b[0;34m:\u001b[0m\u001b[0;34m\u001b[0m\u001b[0;34m\u001b[0m\u001b[0m\n\u001b[0m\u001b[1;32m     12\u001b[0m     \u001b[0mf\u001b[0m\u001b[0;34m.\u001b[0m\u001b[0mwrite\u001b[0m\u001b[0;34m(\u001b[0m\u001b[0;34m\"%d : %d;\\n\"\u001b[0m \u001b[0;34m%\u001b[0m \u001b[0;34m(\u001b[0m\u001b[0mx\u001b[0m\u001b[0;34m,\u001b[0m \u001b[0mi\u001b[0m\u001b[0;34m)\u001b[0m\u001b[0;34m)\u001b[0m\u001b[0;34m\u001b[0m\u001b[0;34m\u001b[0m\u001b[0m\n\u001b[1;32m     13\u001b[0m     \u001b[0mx\u001b[0m \u001b[0;34m+=\u001b[0m \u001b[0;36m1\u001b[0m\u001b[0;34m\u001b[0m\u001b[0;34m\u001b[0m\u001b[0m\n",
      "\u001b[0;31mNameError\u001b[0m: name 'spriteArray' is not defined"
     ]
    }
   ],
   "source": [
    "f = open(\"sprite3.mif\",\"w+\")\n",
    "\n",
    "f.write(\"DEPTH = %d;\\n\" % depth)\n",
    "f.write(\"WIDTH = %d;\\n\" % width)\n",
    "f.write(\"ADDRESS_RADIX = DEC;\\n\")\n",
    "f.write(\"DATA_RADIX = DEC;\\n\")\n",
    "f.write(\"CONTENT\\n\")\n",
    "f.write(\"BEGIN\\n\")\n",
    "\n",
    "x = 0\n",
    "for i in spriteArray:\n",
    "    f.write(\"%d : %d;\\n\" % (x, i))\n",
    "    x += 1\n",
    "\n",
    "f.write(\"END;\\n\")\n",
    "f.close()\n"
   ]
  },
  {
   "cell_type": "code",
   "execution_count": 30,
   "metadata": {},
   "outputs": [
    {
     "name": "stdout",
     "output_type": "stream",
     "text": [
      "DEPTH = 4;\n",
      "WIDTH = 4;\n",
      "ADDRESS_RADIX = DEC;\n",
      "DATA_RADIX = DEC;\n",
      "CONTENT\n",
      "BEGIN\n",
      "\n"
     ]
    }
   ],
   "source": [
    "depth=4\n",
    "width=4\n",
    "\n",
    "mif_string=\"\"\n",
    "mif_string+=(\"DEPTH = %d;\\n\" % depth)\n",
    "mif_string+=(\"WIDTH = %d;\\n\" % width)\n",
    "mif_string+=(\"ADDRESS_RADIX = DEC;\\n\")\n",
    "mif_string+=(\"DATA_RADIX = DEC;\\n\")\n",
    "mif_string+=(\"CONTENT\\n\")\n",
    "mif_string+=(\"BEGIN\\n\")\n",
    "print(mif_string)"
   ]
  },
  {
   "cell_type": "code",
   "execution_count": 31,
   "metadata": {},
   "outputs": [
    {
     "data": {
      "text/plain": [
       "array([[[252, 252, 252, 255],\n",
       "        [252, 252, 252, 255],\n",
       "        [252, 252, 252, 255],\n",
       "        ...,\n",
       "        [252, 252, 252, 255],\n",
       "        [252, 252, 252, 255],\n",
       "        [252, 252, 252, 255]],\n",
       "\n",
       "       [[252, 252, 252, 255],\n",
       "        [252, 252, 252, 255],\n",
       "        [252, 252, 252, 255],\n",
       "        ...,\n",
       "        [252, 252, 252, 255],\n",
       "        [252, 252, 252, 255],\n",
       "        [252, 252, 252, 255]],\n",
       "\n",
       "       [[252, 252, 252, 255],\n",
       "        [252, 252, 252, 255],\n",
       "        [252, 252, 252, 255],\n",
       "        ...,\n",
       "        [252, 252, 252, 255],\n",
       "        [252, 252, 252, 255],\n",
       "        [252, 252, 252, 255]],\n",
       "\n",
       "       [[252, 252, 252, 255],\n",
       "        [252, 252, 252, 255],\n",
       "        [252, 252, 252, 255],\n",
       "        ...,\n",
       "        [252, 252, 252, 255],\n",
       "        [252, 252, 252, 255],\n",
       "        [252, 252, 252, 255]],\n",
       "\n",
       "       [[252, 252, 252, 255],\n",
       "        [252, 252, 252, 255],\n",
       "        [252, 252, 252, 255],\n",
       "        ...,\n",
       "        [252, 252, 252, 255],\n",
       "        [252, 252, 252, 255],\n",
       "        [252, 252, 252, 255]]], dtype=uint8)"
      ]
     },
     "execution_count": 31,
     "metadata": {},
     "output_type": "execute_result"
    }
   ],
   "source": [
    "np.asarray(pil_im)[:5]\n"
   ]
  },
  {
   "cell_type": "code",
   "execution_count": 32,
   "metadata": {},
   "outputs": [
    {
     "data": {
      "text/plain": [
       "array([[[4, 4, 4],\n",
       "        [4, 4, 4],\n",
       "        [4, 4, 4],\n",
       "        ...,\n",
       "        [4, 4, 4],\n",
       "        [4, 4, 4],\n",
       "        [4, 4, 4]],\n",
       "\n",
       "       [[4, 4, 4],\n",
       "        [4, 4, 4],\n",
       "        [4, 4, 4],\n",
       "        ...,\n",
       "        [4, 4, 4],\n",
       "        [4, 4, 4],\n",
       "        [4, 4, 4]],\n",
       "\n",
       "       [[4, 4, 4],\n",
       "        [4, 4, 4],\n",
       "        [4, 4, 4],\n",
       "        ...,\n",
       "        [4, 4, 4],\n",
       "        [4, 4, 4],\n",
       "        [4, 4, 4]],\n",
       "\n",
       "       ...,\n",
       "\n",
       "       [[4, 4, 4],\n",
       "        [4, 4, 4],\n",
       "        [4, 4, 4],\n",
       "        ...,\n",
       "        [4, 4, 4],\n",
       "        [4, 4, 4],\n",
       "        [4, 4, 4]],\n",
       "\n",
       "       [[4, 4, 4],\n",
       "        [4, 4, 4],\n",
       "        [4, 4, 4],\n",
       "        ...,\n",
       "        [4, 4, 4],\n",
       "        [4, 4, 4],\n",
       "        [4, 4, 4]],\n",
       "\n",
       "       [[4, 4, 4],\n",
       "        [4, 4, 4],\n",
       "        [4, 4, 4],\n",
       "        ...,\n",
       "        [4, 4, 4],\n",
       "        [4, 4, 4],\n",
       "        [4, 4, 4]]], dtype=uint8)"
      ]
     },
     "execution_count": 32,
     "metadata": {},
     "output_type": "execute_result"
    }
   ],
   "source": [
    "runded = round_color(np.asarray(pil_im))\n",
    "runded[:, :,0:3]"
   ]
  },
  {
   "cell_type": "code",
   "execution_count": null,
   "metadata": {},
   "outputs": [],
   "source": []
  },
  {
   "cell_type": "code",
   "execution_count": 33,
   "metadata": {},
   "outputs": [],
   "source": [
    "runded = round_color(np.asarray(pil_im))\n"
   ]
  },
  {
   "cell_type": "code",
   "execution_count": null,
   "metadata": {},
   "outputs": [],
   "source": []
  },
  {
   "cell_type": "code",
   "execution_count": null,
   "metadata": {},
   "outputs": [],
   "source": []
  },
  {
   "cell_type": "code",
   "execution_count": 18,
   "metadata": {},
   "outputs": [],
   "source": [
    "def round_color(color_, n_bits=2):\n",
    "    posible_colors=2**n_bits\n",
    "    result  = color_//(255//posible_colors) + (color_%(255//posible_colors))//(255//posible_colors*2)\n",
    "    \n",
    "    return result;\n",
    "def toHex(pos):\n",
    "    return hex(pos[2]<<4 | pos[1] <<2 | pos[0])[2:]\n",
    "\n",
    "def mif_pos_to_str(pos):\n",
    "    \n",
    "    if(pos[1]==pos[2]):\n",
    "        return \"%d : %s\"%(pos[1],pos[0])\n",
    "    else:\n",
    "        return \"[%d..%d] : %s\"%(pos[1],pos[2],pos[0])"
   ]
  },
  {
   "cell_type": "code",
   "execution_count": 27,
   "metadata": {},
   "outputs": [],
   "source": [
    "def round_color(color_, n_bits=2):\n",
    "    posible_colors=2**n_bits\n",
    "    if(n_bits!=8):\n",
    "        result  = color_//(255//posible_colors) + (color_%(255//posible_colors))//(255//posible_colors*2)\n",
    "    else:\n",
    "        result=color_\n",
    "    return result;\n",
    "\n",
    "def toHex(pos,n_bits):\n",
    "    return hex(pos[2]<<2*n_bits | pos[1] <<n_bits | pos[0])[2:]\n",
    "\n",
    "def mif_positions(image,n_bits=2):\n",
    "    image_pixels = round_color(np.asarray(image),n_bits)\n",
    "    counter=0\n",
    "    results=[]\n",
    "    for j in range(len(image_pixels)):\n",
    "        for i in range(len(image_pixels[0])):\n",
    "            current= toHex(image_pixels[j,i],n_bits)\n",
    "            if(len(results) == 0):\n",
    "                results.append([current,0,0])\n",
    "            elif(results[-1][0] != current):\n",
    "                results.append([current,counter,counter])\n",
    "            else:\n",
    "                results[-1][2]=counter\n",
    "            counter+=1\n",
    "    return results\n",
    "def image_to_mif(image,n_bits=2):\n",
    "    pos=mif_positions(image,n_bits)\n",
    "    mif= []\n",
    "    for p in pos:\n",
    "#         print(p)\n",
    "        mif.append(mif_pos_to_str(p))\n",
    "    return(\";\\n\".join(mif))"
   ]
  },
  {
   "cell_type": "code",
   "execution_count": 20,
   "metadata": {},
   "outputs": [],
   "source": [
    "def generate_mif(image_filename, out_filename, n_bits=2):\n",
    "    image = Image.open(image_filename, 'r')\n",
    "\n",
    "    pixels = image.load()\n",
    "\n",
    "#     for y in range(pil_im.size[0]):    \n",
    "#         for x in range(pil_im.size[1]):  \n",
    "#             pix = pixels[y,x]\n",
    "#             bits=2\n",
    "#             n_colors=2**bits\n",
    "#             pixels[y,x]=(round_color(pix[0],bits) ,round_color(pix[1],bits) ,round_color(pix[2],bits),255)\n",
    "    \n",
    "    \n",
    "    \n",
    "    f = open(out_filename,\"w\")\n",
    "    f.write(\"DEPTH = %d;\\n\" % 10000)\n",
    "    f.write(\"WIDTH = %d;\\n\" % (n_bits*3))\n",
    "    f.write(\"ADDRESS_RADIX = DEC;\\n\")\n",
    "    f.write(\"DATA_RADIX = HEX;\\n\")\n",
    "    f.write(\"CONTENT\\n\")\n",
    "    f.write(\"BEGIN\\n\")\n",
    "    f.write(image_to_mif(image,n_bits=n_bits))\n",
    "#     f.write(\"LL\"*20000)\n",
    "    f.write(\";\\nEND;\")\n",
    "    f.close()"
   ]
  },
  {
   "cell_type": "code",
   "execution_count": 62,
   "metadata": {},
   "outputs": [
    {
     "data": {
      "text/plain": [
       "<matplotlib.image.AxesImage at 0x7ff1bf66c550>"
      ]
     },
     "execution_count": 62,
     "metadata": {},
     "output_type": "execute_result"
    },
    {
     "data": {
      "image/png": "[encoded data removed]",
      "text/plain": [
       "<Figure size 432x288 with 1 Axes>"
      ]
     },
     "metadata": {
      "needs_background": "light"
     },
     "output_type": "display_data"
    }
   ],
   "source": [
    "pil_im = Image.open('bola_pixar.png', 'r')\n",
    "imshow(np.asarray(pil_im))"
   ]
  },
  {
   "cell_type": "code",
   "execution_count": 63,
   "metadata": {},
   "outputs": [
    {
     "data": {
      "text/plain": [
       "<matplotlib.image.AxesImage at 0x7ff1bf762550>"
      ]
     },
     "execution_count": 63,
     "metadata": {},
     "output_type": "execute_result"
    },
    {
     "data": {
      "image/png": "[encoded data removed]",
      "text/plain": [
       "<Figure size 432x288 with 1 Axes>"
      ]
     },
     "metadata": {
      "needs_background": "light"
     },
     "output_type": "display_data"
    }
   ],
   "source": [
    "n_bits=4\n",
    "n_colors=2**n_bits\n",
    "result= round_color(np.asarray(pil_im),n_bits)*(255//n_colors)\n",
    "for r in result:\n",
    "    r=[r[0],r[1],r[2],255]\n",
    "imshow(result)"
   ]
  },
  {
   "cell_type": "markdown",
   "metadata": {},
   "source": [
    "<!-- # print(image_to_mif(pil_im)) -->"
   ]
  },
  {
   "cell_type": "code",
   "execution_count": 5,
   "metadata": {},
   "outputs": [],
   "source": [
    "generate_mif('tanque.png','tanque.mif',n_bits=8)"
   ]
  },
  {
   "cell_type": "code",
   "execution_count": 68,
   "metadata": {},
   "outputs": [],
   "source": [
    "generate_mif('zelda_shield.png','zelda_shield.mif',n_bits=8)"
   ]
  },
  {
   "cell_type": "code",
   "execution_count": 69,
   "metadata": {},
   "outputs": [],
   "source": [
    "generate_mif('zelda_sword.png','zelda_sword.mif',n_bits=8)"
   ]
  },
  {
   "cell_type": "code",
   "execution_count": 55,
   "metadata": {},
   "outputs": [
    {
     "data": {
      "text/plain": [
       "(100, 100, 4)"
      ]
     },
     "execution_count": 55,
     "metadata": {},
     "output_type": "execute_result"
    }
   ],
   "source": [
    "pil_im = Image.open('zelda_shield.png', 'r')\n",
    "np.asarray(pil_im).shape"
   ]
  },
  {
   "cell_type": "code",
   "execution_count": 42,
   "metadata": {},
   "outputs": [
    {
     "ename": "NameError",
     "evalue": "name 'image' is not defined",
     "output_type": "error",
     "traceback": [
      "\u001b[0;31m---------------------------------------------------------------------------\u001b[0m",
      "\u001b[0;31mNameError\u001b[0m                                 Traceback (most recent call last)",
      "\u001b[0;32m<ipython-input-42-28935580a9bb>\u001b[0m in \u001b[0;36m<module>\u001b[0;34m\u001b[0m\n\u001b[0;32m----> 1\u001b[0;31m \u001b[0mimage\u001b[0m\u001b[0;34m\u001b[0m\u001b[0;34m\u001b[0m\u001b[0m\n\u001b[0m",
      "\u001b[0;31mNameError\u001b[0m: name 'image' is not defined"
     ]
    }
   ],
   "source": [
    "image\n"
   ]
  },
  {
   "cell_type": "code",
   "execution_count": 26,
   "metadata": {},
   "outputs": [],
   "source": [
    "generate_mif('tanque1.png','tanque1.mif',n_bits=8)\n",
    "generate_mif('tanque2.png','tanque2.mif',n_bits=8)\n",
    "generate_mif('floor.png','floor.mif',n_bits=8)\n"
   ]
  },
  {
   "cell_type": "code",
   "execution_count": 25,
   "metadata": {},
   "outputs": [],
   "source": [
    "generate_mif('score.png','score.mif',n_bits=8)"
   ]
  },
  {
   "cell_type": "code",
   "execution_count": null,
   "metadata": {},
   "outputs": [],
   "source": []
  }
 ],
 "metadata": {
  "kernelspec": {
   "display_name": "Python 3",
   "language": "python",
   "name": "python3"
  },
  "language_info": {
   "codemirror_mode": {
    "name": "ipython",
    "version": 3
   },
   "file_extension": ".py",
   "mimetype": "text/x-python",
   "name": "python",
   "nbconvert_exporter": "python",
   "pygments_lexer": "ipython3",
   "version": "3.7.4"
  }
 },
 "nbformat": 4,
 "nbformat_minor": 4
}
